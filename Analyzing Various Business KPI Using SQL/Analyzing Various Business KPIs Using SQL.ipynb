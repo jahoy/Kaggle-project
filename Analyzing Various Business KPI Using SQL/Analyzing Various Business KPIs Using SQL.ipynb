{
 "cells": [
  {
   "cell_type": "markdown",
   "metadata": {},
   "source": [
    "# Analyzing Various Business KPIs Using SQL\n",
    "\n",
    "# Analyzing Varioud Business KPI Using SQL\n",
    "UBer Eats와 비슷한 Food Delivery Business 에서 발생하는 비지니스 KPI들에 대해 SQL을 사용하여 도출하겠다.\n",
    "\n",
    "<img width=\"559\" alt=\"delivr_business\" src=\"https://user-images.githubusercontent.com/50973416/59886734-22b6f200-93fb-11e9-85d5-e61467ba0884.png\">\n",
    "\n",
    "\n",
    "## 다음과 같은 주요 Business KPI를 살펴본다.\n",
    "\n",
    "### Revenue, Cost, Profit\n",
    "\n",
    "1. Revenue per customer\n",
    "2. Revenue per week\n",
    "3. Top meals by cost\n",
    "4. Cost per month\n",
    "5. Profit per eatery\n",
    "6. Profit per month\n",
    "\n",
    "### User-Centric KPIs\n",
    "\n",
    "1. Registrations by month\n",
    "2. Monthly Active Users(MAU)\n",
    "3. Registrations running total\n",
    "4. MAU per month\n",
    "5. Monthly MAU Growth Rate\n",
    "6. Order Growth Rate\n",
    "7. Retention Rate\n",
    "\n",
    "### ARPU, histograms and percentiles\n",
    "\n",
    "1. Average revenue per user (ARPU)\n",
    "2. ARPU per week\n",
    "3. Average order per user\n",
    "4. Histogram of revenue\n",
    "5. Histogram of orders\n",
    "6. Bucketing users by revenue\n",
    "7. Bucketing users by orders\n",
    "8. Revenue quartiles\n",
    "9. Interquartile range\n",
    "\n",
    "### Generating an reports\n",
    "\n",
    "1. Rank users by their count of orders\n",
    "2. Pivoting user revenues by month\n",
    "\n",
    "\n"
   ]
  },
  {
   "cell_type": "markdown",
   "metadata": {},
   "source": [
    "### 비지니스 KPI 측정을 통해 비지니스의 성장성과 서비스 개선에 대한 방향을 도출하겠다."
   ]
  },
  {
   "cell_type": "markdown",
   "metadata": {},
   "source": [
    "### Revenue per Customer\n",
    "\n",
    "user_id = 15 인 customer에 대한 revenue을 구하겠다."
   ]
  },
  {
   "cell_type": "code",
   "execution_count": 1,
   "metadata": {},
   "outputs": [],
   "source": [
    "sql ='''\n",
    "\n",
    "SELECT \n",
    "SUM(meals.meal_price * orders.order_quantity) AS revenue\n",
    "FROM meals\n",
    "JOIN orders ON meals.meal_id = orders.meal_id\n",
    "WHERE user_id = 15;\n",
    "\n",
    "'''"
   ]
  },
  {
   "cell_type": "markdown",
   "metadata": {},
   "source": [
    "### Revenue per Week\n",
    "\n",
    "6월 동안의 revenue per week을 구하겠다."
   ]
  },
  {
   "cell_type": "code",
   "execution_count": 2,
   "metadata": {},
   "outputs": [],
   "source": [
    "sql = '''\n",
    "\n",
    "SELECT \n",
    "DATE_TRUNC('week', o.order_date) :: DATE AS delivr_week,\n",
    "SUM(m.meal_price * o.order_quantity) As revenue\n",
    "FROM meals As m\n",
    "JOIN orders As o ON m.meal_id = o.meal_id\n",
    "WHERE o.order_date LIKE '2018-06%'\n",
    "GROUP BY delivr_week\n",
    "ORDER BY delivr_week ASC;\n",
    "\n",
    "'''"
   ]
  },
  {
   "cell_type": "markdown",
   "metadata": {},
   "source": [
    "### Top Meals by Cost\n",
    "각각의 `meal_id`에 대하여 cost를 구하고, top 5 cost를 추출한다."
   ]
  },
  {
   "cell_type": "code",
   "execution_count": 3,
   "metadata": {},
   "outputs": [],
   "source": [
    "sql = '''\n",
    "\n",
    "SELECT\n",
    "    meals.meal_id,\n",
    "    SUM(stock.stocked_quantity * meals.meal_cost) AS cost\n",
    "FROM meals\n",
    "JOIN stock ON meals.meal_id = stock.meal_id\n",
    "GROUP BY meals.meal_id\n",
    "ORDER BY cost DESC\n",
    "LIMIT 5;\n",
    "\n",
    "'''"
   ]
  },
  {
   "cell_type": "markdown",
   "metadata": {},
   "source": [
    "### Cost per Month\n",
    "\n",
    "매월 총 얼마의 비용이 발생하는 지 구하겠다."
   ]
  },
  {
   "cell_type": "code",
   "execution_count": 4,
   "metadata": {},
   "outputs": [],
   "source": [
    "sql = '''\n",
    "\n",
    "SELECT\n",
    "    DATE_TRUNC('month', stock.stocking_date) :: DATE AS delivr_month\n",
    "    SUM(stock.stocked_quantity * meals.meal_cost) AS cost\n",
    "FROM meals\n",
    "JOIN stock ON meals.meal_id = stock.meal_id\n",
    "GROUP BY delivr_month\n",
    "ORDER BY delivr_month ASC;\n",
    "\n",
    "'''"
   ]
  },
  {
   "cell_type": "markdown",
   "metadata": {},
   "source": [
    "### Profit per Eatery"
   ]
  },
  {
   "cell_type": "markdown",
   "metadata": {},
   "source": [
    "각각 Eatery에 따른 Profit을 구하겠다. "
   ]
  },
  {
   "cell_type": "code",
   "execution_count": 5,
   "metadata": {},
   "outputs": [],
   "source": [
    "sql = '''\n",
    "\n",
    "WITH revenue AS(\n",
    "\n",
    "SELECT \n",
    "    meals.eatery,\n",
    "    SUM(meal_price * order_quantity) AS revenue\n",
    "FROM meals\n",
    "JOIN orders ON meals.meal_id = orders.meal_id\n",
    "GROUP BY eatery\n",
    "),\n",
    "\n",
    "cost AS(\n",
    "SELECT \n",
    "    meals.eatery,\n",
    "    SUM(meals.meal_cost * stock.stocked_quantity) AS cost\n",
    "FROM meals\n",
    "JOIN stock ON meals.meal_id = stock.meal_id\n",
    "GROUP BY eatery\n",
    ")\n",
    "\n",
    "\n",
    "\n",
    "SELECT \n",
    "    revenue.eatery,\n",
    "    revenue.revenue - cost.cost AS profit\n",
    "FROM revenue\n",
    "JOIN cost ON revenue.eatery = cost.eatery\n",
    "ORDER BY profit DESC;\n",
    "\n",
    "'''"
   ]
  },
  {
   "cell_type": "markdown",
   "metadata": {},
   "source": [
    "### Profit per Month\n",
    "\n",
    "매월 수익을 구하겠다."
   ]
  },
  {
   "cell_type": "code",
   "execution_count": 6,
   "metadata": {},
   "outputs": [],
   "source": [
    "sql = '''\n",
    "\n",
    "\n",
    "WITH revenue AS ( \n",
    "SELECT\n",
    "    DATE_TRUNC('month', orders.order_date) :: DATE AS delivr_month,\n",
    "    SUM(meals.meal_price * orders.order_quantity) AS revenue\n",
    "FROM meals\n",
    "JOIN orders ON meals.meal_id = orders.meal_id\n",
    "GROUP BY delivr_month),\n",
    "\n",
    "cost AS (\n",
    "SELECT\n",
    "    DATE_TRUNC('month', stock.stocking_date) :: DATE AS delivr_month,\n",
    "    SUM(meals.meal_cost * stock.stocked_quantity) AS cost\n",
    "FROM meals\n",
    "JOIN stock ON meals.meal_id = stock.meal_id\n",
    "GROUP BY delivr_month)\n",
    "\n",
    "\n",
    "SELECT\n",
    "    revenue.delivr_month,\n",
    "    revenue.revenue - cost.cost AS profit\n",
    "FROM revenue\n",
    "JOIN cost ON revenue.delivr_month = cost.delivr_month\n",
    "ORDER BY revenue.delivr_month ASC;\n",
    "\n",
    "'''"
   ]
  },
  {
   "cell_type": "markdown",
   "metadata": {},
   "source": [
    "### Calculate Registrations Date\n",
    "여기서는 첫 order를 한 날을 첫 registration으로 설정한다. 일반적으로는 따로 registration date 칼럼이 존재한다."
   ]
  },
  {
   "cell_type": "code",
   "execution_count": 7,
   "metadata": {},
   "outputs": [],
   "source": [
    "sql = '''\n",
    "\n",
    "SELECT\n",
    "    user_id,\n",
    "    MIN(order_date) AS reg_date\n",
    "FROM orders\n",
    "GROUP BY user_id\n",
    "ORDER BY user_id ASC;\n",
    "\n",
    "'''"
   ]
  },
  {
   "cell_type": "markdown",
   "metadata": {},
   "source": [
    "### Montly Active Users(MAU)"
   ]
  },
  {
   "cell_type": "code",
   "execution_count": 8,
   "metadata": {},
   "outputs": [],
   "source": [
    "sql = '''\n",
    "\n",
    "SELECT\n",
    "    DATE_TRUNC('month',order_date) :: DATE AS delivr_month,\n",
    "    COUNT(DISTINCT user_id) AS mau\n",
    "FROM orders\n",
    "GROUP BY delivr_month\n",
    "ORDER BY delivr_month ASC;\n",
    "\n",
    "'''"
   ]
  },
  {
   "cell_type": "markdown",
   "metadata": {},
   "source": [
    "### Registrations Running Total\n",
    "매달마다 누적 Resgistrations 수를 구하겠다."
   ]
  },
  {
   "cell_type": "code",
   "execution_count": 9,
   "metadata": {},
   "outputs": [],
   "source": [
    "sql = '''\n",
    "\n",
    "WITH reg_dates AS (\n",
    "SELECT\n",
    "    user_id,\n",
    "    MIN(order_date) AS reg_date\n",
    "FROM orders\n",
    "GROUP BY user_id)\n",
    "\n",
    "\n",
    "\n",
    "SELECT\n",
    "  DATE_TRUNC('month',reg_date) :: DATE AS delivr_month,\n",
    "  COUNT(user_id) AS regs\n",
    "FROM reg_dates\n",
    "GROUP BY delivr_month\n",
    "ORDER BY delivr_month; \n",
    "\n",
    "'''"
   ]
  },
  {
   "cell_type": "markdown",
   "metadata": {},
   "source": [
    "### MAU per Month\n",
    "매달 MAU를 계산하고, 지난 MAU를 병행 표기하겠다."
   ]
  },
  {
   "cell_type": "code",
   "execution_count": 10,
   "metadata": {},
   "outputs": [],
   "source": [
    "sql = '''\n",
    "\n",
    "WITH mau AS (\n",
    "SELECT\n",
    "    DATE_TRUNC('month', order_date) :: DATE AS delivr_month,\n",
    "    COUNT(DISTINCT user_id) AS mau\n",
    "FROM orders\n",
    "GROUP BY delivr_month)\n",
    "\n",
    "\n",
    "SELECT\n",
    "    delivr_month,\n",
    "    mau,\n",
    "    COALESCE(LAG(mau) OVER (ORDER BY delivr_month), 0) AS last_mau\n",
    "FROM mau\n",
    "ORDER BY delivr_month ASC;\n",
    "\n",
    "'''"
   ]
  },
  {
   "cell_type": "markdown",
   "metadata": {},
   "source": [
    "### Monthly MAU Growth Rate\n",
    "이번달 MAU 와 지난달 MAU의 차이를 구하겠다.\n",
    "또한 이번달 MAU가 지난달 MAU에 비해 몇% 성장했는지 구하겟다."
   ]
  },
  {
   "cell_type": "code",
   "execution_count": 11,
   "metadata": {},
   "outputs": [],
   "source": [
    "sql = '''\n",
    "\n",
    "WITH mau AS (\n",
    "SELECT\n",
    "    DATE_TRUNC('month', order_date) :: DATE AS delivr_month,\n",
    "    COUNT(DISTINCT user_id) AS mau\n",
    "FROM orders\n",
    "GROUP BY delivr_month),\n",
    "\n",
    "mau_with_lag AS (\n",
    "SELECT\n",
    "    delivr_month,\n",
    "    mau,\n",
    "    COALESCE(LAG(mau) OVER (ORDER BY delivr_month),0) AS last_mau\n",
    "FROM mau)\n",
    "\n",
    "\n",
    "\n",
    "SELECT\n",
    "    delivr_month,\n",
    "    mau - last_mau AS mau_delta,\n",
    "    ROUND(mau - last_mau::NUMERIC / last_mau, 2) AS growth\n",
    "FROM mau_with_lag\n",
    "ORDER BY delivr_month ASC;\n",
    "\n",
    "'''"
   ]
  },
  {
   "cell_type": "markdown",
   "metadata": {},
   "source": [
    "### Order Growth Rate\n",
    "지난달 order수에 비해 이번달 order수가 얼만큼 성장했는지 구하겠다."
   ]
  },
  {
   "cell_type": "code",
   "execution_count": 12,
   "metadata": {},
   "outputs": [],
   "source": [
    "sql = '''\n",
    "\n",
    "WITH orders AS (\n",
    "SELECT\n",
    "    DATE_TRUNC('month', order_date) :: DATE AS delivr_month,\n",
    "    COUNT(DISTINCT order_id) AS orders\n",
    "FROM orders\n",
    "GROUP BY delivr_month),\n",
    "\n",
    "orders_with_lag AS (\n",
    "SELECT\n",
    "    delivr_month,\n",
    "    orders,\n",
    "    COALESCE(LAG(orders) OVER (ORDER BY delivr_month ASC),1) AS last_orders\n",
    "FROM orders)\n",
    "\n",
    "\n",
    "\n",
    "SELECT\n",
    "    delivr_month,\n",
    "    ROUND((orders - last_orders) :: NUMERIC / last_orders,2) AS growth\n",
    "    FROM orders_with_lag\n",
    "ORDER BY delivr_month ASC;\n",
    "\n",
    "'''"
   ]
  },
  {
   "cell_type": "markdown",
   "metadata": {},
   "source": [
    "### Retention Rate\n",
    "\n",
    "지난달의 이용자 수에 비해 이번달 이용자 수가 얼만큼 유지했는지 구하겠다."
   ]
  },
  {
   "cell_type": "code",
   "execution_count": 13,
   "metadata": {},
   "outputs": [],
   "source": [
    "sql = '''\n",
    "\n",
    "WITH user_monthly_activity AS (\n",
    "SELECT DISTINCT\n",
    "    DATE_TRUNC('month', order_date) :: DATE AS delivr_month,\n",
    "    user_id\n",
    "FROM orders)\n",
    "\n",
    "\n",
    "\n",
    "SELECT\n",
    "    previous.delivr_month,\n",
    "    ROUND(COUNT(DISTINCT current.user_id) :: NUMERIC /GREATEST(COUNT(DISTINCT previous.user_id), 1), 2) AS retention_rate\n",
    "FROM user_monthly_activity AS previous\n",
    "LEFT JOIN user_monthly_activity AS current\n",
    "ON previous.user_id = current.user_id\n",
    "AND previous.delivr_month = (current.delivr_month - INTERVAL '1 month')\n",
    "GROUP BY previous.delivr_month\n",
    "ORDER BY previous.delivr_month ASC;\n",
    "\n",
    "'''"
   ]
  },
  {
   "cell_type": "markdown",
   "metadata": {},
   "source": [
    "### Average Revenue per User\n",
    "\n",
    "각각 user에 대한 평균 revenue를 구하겠다."
   ]
  },
  {
   "cell_type": "code",
   "execution_count": 14,
   "metadata": {},
   "outputs": [],
   "source": [
    "sql = '''\n",
    "\n",
    "SELECT\n",
    "    o.user_id,\n",
    "    SUM(m.meal_price * o.order_quantity) AS revenue\n",
    "FROM meals AS m\n",
    "JOIN orders AS o ON m.meal_id = o.meal_id\n",
    "GROUP BY user_id;\n",
    "\n",
    "'''"
   ]
  },
  {
   "cell_type": "markdown",
   "metadata": {},
   "source": [
    "### ARPU per Week\n",
    "매주 ARPU를 구하겠다."
   ]
  },
  {
   "cell_type": "code",
   "execution_count": 15,
   "metadata": {},
   "outputs": [],
   "source": [
    "sql = '''\n",
    "\n",
    "WITH kpi AS (\n",
    "SELECT\n",
    "    DATE_TRUNC('week', o.order_date) :: DATE AS delivr_week,\n",
    "    SUM(m.meal_price * o.order_quantity) AS revenue,\n",
    "    COUNT(DISTINCT o.user_id) AS users\n",
    "FROM meals AS m\n",
    "JOIN orders AS o ON m.meal_id = o.meal_id\n",
    "GROUP BY delivr_week)\n",
    "\n",
    "SELECT\n",
    "delivr_week,\n",
    "ROUND(revenue :: NUMERIC / GREATEST(users, 1),2) AS arpu\n",
    "FROM kpi\n",
    "ORDER BY delivr_week ASC;\n",
    "\n",
    "'''"
   ]
  },
  {
   "cell_type": "markdown",
   "metadata": {},
   "source": [
    "### Average Orders per User\n",
    "평균 order 수를 구하겠다."
   ]
  },
  {
   "cell_type": "code",
   "execution_count": 16,
   "metadata": {},
   "outputs": [],
   "source": [
    "sql = '''\n",
    "\n",
    "WITH kpi AS (\n",
    "SELECT\n",
    "    COUNT(DISTINCT order_id) AS orders,\n",
    "    COUNT(DISTINCT user_id) AS users\n",
    "FROM orders)\n",
    "\n",
    "SELECT\n",
    "  ROUND(orders :: NUMERIC / GREATEST(users, 1),2) AS arpu\n",
    "FROM kpi;\n",
    "\n",
    "'''"
   ]
  },
  {
   "cell_type": "markdown",
   "metadata": {},
   "source": [
    "### Histogram of revenue\n",
    "revenue 100 단위로 user의 수가 얼마나 분포되어있는지 구하겠다."
   ]
  },
  {
   "cell_type": "code",
   "execution_count": 17,
   "metadata": {},
   "outputs": [],
   "source": [
    "sql = '''\n",
    "\n",
    "WITH user_revenues AS (\n",
    "SELECT\n",
    "    o.user_id,\n",
    "    SUM(m.meal_price * o.order_quantity) AS revenue\n",
    "FROM meals AS m\n",
    "JOIN orders AS o ON m.meal_id = o.meal_id\n",
    "GROUP BY user_id)\n",
    "\n",
    "\n",
    "\n",
    "SELECT\n",
    "    ROUND(revenue :: NUMERIC, -2) AS revenue_100,\n",
    "    COUNT(DISTINCT user_id) AS users\n",
    "FROM user_revenues\n",
    "GROUP BY revenue_100\n",
    "ORDER BY revenue_100 ASC;\n",
    "\n",
    "'''"
   ]
  },
  {
   "cell_type": "markdown",
   "metadata": {},
   "source": [
    "### Bucketing Users by Revenue\n",
    "\n",
    "- `revenue < 150` 일때는 `Low-revenue users`\n",
    "- `revenue < 300` 일때는 `Mid-revenue users`\n",
    "- 그 이상일때는 `High-revenue users` 로 구분하고,\n",
    "각각의 범주에 따라서 user의 수를 구하겠다."
   ]
  },
  {
   "cell_type": "code",
   "execution_count": 18,
   "metadata": {},
   "outputs": [],
   "source": [
    "sql = '''\n",
    "\n",
    "WITH user_revenues AS (\n",
    "SELECT\n",
    "    user_id,\n",
    "    SUM(m.meal_price * o.order_quantity) AS revenue\n",
    "FROM meals AS m\n",
    "JOIN orders AS o ON m.meal_id = o.meal_id\n",
    "GROUP BY user_id)\n",
    "\n",
    "SELECT\n",
    "  CASE\n",
    "    WHEN revenue < 150 THEN 'Low-revenue users'\n",
    "    WHEN revenue < 300 THEN 'Mid-revenue users'\n",
    "    ELSE 'High-revenue users'\n",
    "  END AS revenue_group,\n",
    "  COUNT(DISTINCT user_id) AS users\n",
    "FROM user_revenues\n",
    "GROUP BY revenue_group;\n",
    "\n",
    "'''"
   ]
  },
  {
   "cell_type": "markdown",
   "metadata": {},
   "source": [
    "### Bucketing Users by Orders\n",
    "\n",
    "- `order < 8` 일때는 `Low-orders users`\n",
    "- `order < 15` 일때는 `Mid-orders users`\n",
    "- 그 이상일때는 `High -orders users` 로 구분하고, 각각의 범주에 따라서 user의 수를 구하겠다."
   ]
  },
  {
   "cell_type": "code",
   "execution_count": 19,
   "metadata": {},
   "outputs": [],
   "source": [
    "sql = '''\n",
    "\n",
    "WITH user_orders AS (\n",
    "SELECT\n",
    "    user_id,\n",
    "    COUNT(DISTINCT order_id) AS orders\n",
    "FROM orders\n",
    "GROUP BY user_id)\n",
    "\n",
    "\n",
    "\n",
    "SELECT\n",
    "CASE\n",
    "    WHEN orders < 8 THEN 'Low-orders users'\n",
    "    WHEN orders < 15 THEN 'Mid-orders users'\n",
    "    ELSE 'High-orders users'\n",
    "END AS order_group,\n",
    "    COUNT(DISTINCT user_id) AS users\n",
    "FROM user_orders\n",
    "GROUP BY order_group;\n",
    "\n",
    "'''"
   ]
  },
  {
   "cell_type": "markdown",
   "metadata": {},
   "source": [
    "### Revenue Quartiles\n",
    "Revenue의 25%구간, 50%구간, 75%구간을 구하고, 평균 revenue를 구한다."
   ]
  },
  {
   "cell_type": "code",
   "execution_count": 20,
   "metadata": {},
   "outputs": [],
   "source": [
    "sql = '''\n",
    "\n",
    "WITH user_revenues AS (\n",
    "SELECT\n",
    "    user_id,\n",
    "    SUM(m.meal_price * o.order_quantity) AS revenue\n",
    "FROM meals AS m\n",
    "JOIN orders AS o ON m.meal_id = o.meal_id\n",
    "GROUP BY user_id)\n",
    "\n",
    "\n",
    "\n",
    "SELECT\n",
    "  ROUND(\n",
    "    PERCENTILE_CONT(0.25) WITHIN GROUP\n",
    "    (ORDER BY revenue ASC) :: NUMERIC,\n",
    "  2) AS revenue_p25,\n",
    "  ROUND(\n",
    "    PERCENTILE_CONT(0.5) WITHIN GROUP\n",
    "    (ORDER BY revenue ASC) :: NUMERIC,\n",
    "  2) AS revenue_p50,\n",
    "  ROUND(\n",
    "    PERCENTILE_CONT(0.75) WITHIN GROUP\n",
    "    (ORDER BY revenue ASC) :: NUMERIC,\n",
    "  2) AS revenue_p75,\n",
    "  ROUND(AVG(revenue) :: NUMERIC, 2) AS avg_revenue\n",
    "FROM user_revenues;\n",
    "\n",
    "'''"
   ]
  },
  {
   "cell_type": "markdown",
   "metadata": {},
   "source": [
    "### Rank User by their Count of Orders"
   ]
  },
  {
   "cell_type": "code",
   "execution_count": 21,
   "metadata": {},
   "outputs": [],
   "source": [
    "sql = '''\n",
    "SELECT\n",
    "    user_id,\n",
    "    COUNT(DISTINCT order_id) AS count_orders\n",
    "FROM orders\n",
    "WHERE DATE_TRUNC('month', order_date) = '2018-08-01'\n",
    "GROUP BY user_id;\n",
    "\n",
    "'''"
   ]
  },
  {
   "cell_type": "markdown",
   "metadata": {},
   "source": [
    "### Pivoting User Revenues by Month\n",
    "\n",
    "각각의 user가 6월 7월 8월에 얼마나 Revenues를 창출했는지 구하겠다."
   ]
  },
  {
   "cell_type": "code",
   "execution_count": 22,
   "metadata": {},
   "outputs": [],
   "source": [
    "sql = '''\n",
    "\n",
    "CREATE EXTENSION IF NOT EXISTS tablefunc;\n",
    "\n",
    "SELECT * FROM CROSSTAB($$\n",
    "    SELECT\n",
    "        o.user_id,\n",
    "        DATE_TRUNC('month', o.order_date) :: DATE AS delivr_month,\n",
    "        SUM(m.meal_price * o.order_quantity) :: FLOAT AS revenue\n",
    "      FROM meals AS m\n",
    "      JOIN orders AS o ON m.meal_id = o.meal_id\n",
    "     WHERE o.user_id IN (0, 1, 2, 3, 4) AND o.order_date < '2018-09-01'\n",
    "     GROUP BY o.user_id, delivr_month\n",
    "     ORDER BY o.user_id, delivr_month;\n",
    "$$)\n",
    "AS ct (user_id INT,\n",
    "       \"2018-06-01\" FLOAT,\n",
    "       \"2018-07-01\" FLOAT,\n",
    "       \"2018-08-01\" FLOAT)\n",
    "ORDER BY user_id ASC;\n",
    "\n",
    "'''"
   ]
  }
 ],
 "metadata": {
  "kernelspec": {
   "display_name": "Python 3",
   "language": "python",
   "name": "python3"
  },
  "language_info": {
   "codemirror_mode": {
    "name": "ipython",
    "version": 3
   },
   "file_extension": ".py",
   "mimetype": "text/x-python",
   "name": "python",
   "nbconvert_exporter": "python",
   "pygments_lexer": "ipython3",
   "version": "3.6.8"
  }
 },
 "nbformat": 4,
 "nbformat_minor": 2
}
