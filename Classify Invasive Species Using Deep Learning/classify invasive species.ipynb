{
 "cells": [
  {
   "cell_type": "code",
   "execution_count": null,
   "metadata": {
    "_cell_guid": "b1076dfc-b9ad-4769-8c92-a6c4dae69d19",
    "_uuid": "8f2839f25d086af736a60e9eeb907d3b93b6e0e5"
   },
   "outputs": [],
   "source": [
    "# This Python 3 environment comes with many helpful analytics libraries installed\n",
    "# It is defined by the kaggle/python docker image: https://github.com/kaggle/docker-python\n",
    "# For example, here's several helpful packages to load in \n",
    "\n",
    "import numpy as np # linear algebra\n",
    "import pandas as pd # data processing, CSV file I/O (e.g. pd.read_csv)\n",
    "\n",
    "# Input data files are available in the \"../input/\" directory.\n",
    "# For example, running this (by clicking run or pressing Shift+Enter) will list the files in the input directory\n",
    "\n",
    "import os\n",
    "print(os.listdir(\"../input\"))\n",
    "\n",
    "# Any results you write to the current directory are saved as output."
   ]
  },
  {
   "cell_type": "code",
   "execution_count": null,
   "metadata": {
    "_cell_guid": "79c7e3d0-c299-4dcb-8224-4455121ee9b0",
    "_uuid": "d629ff2d2480ee46fbb7e2d37f6b5fab8052498a"
   },
   "outputs": [],
   "source": [
    "import cv2\n",
    "import numpy as np\n",
    "import pandas as pd\n",
    "from sklearn.model_selection import KFold\n",
    "from sklearn import metrics\n",
    "\n",
    "\n",
    "\n",
    "# Train 데이터 전처리\n",
    "train = pd.read_csv(\"../input/train_labels.csv\")\n",
    "train[\"path\"] = train[\"name\"].apply(lambda x: \"../input/train/\" + str(x) + \".jpg\")\n",
    "train[\"label\"] = train[\"invasive\"].astype(\"str\")\n",
    "train.drop([\"name\", \"invasive\"], 1, inplace=True)\n",
    "\n",
    "val_size = 50\n",
    "image_size = 500\n",
    "batch_size = 18\n",
    "\n",
    "train_gen = ImageDataGenerator(rescale = 1./255, horizontal_flip=True, rotation_range=270, )\n",
    "train_generator = train_gen.flow_from_dataframe(dataframe = train.iloc[:2245], x_col = \"path\", y_col = \"label\", \n",
    "                                                batch_size = batch_size, target_size = (image_size, image_size))\n",
    "\n",
    "val_generator = train_gen.flow_from_dataframe(dataframe = train.iloc[2245:], x_col = \"path\", y_col = \"label\", \n",
    "                                                batch_size = batch_size, target_size = (image_size, image_size))\n",
    "\n",
    "# 모델 구축 - InceptionResNetV2 활용\n",
    "import keras\n",
    "from keras.layers import Dense, Input, Flatten, Dropout, GlobalAveragePooling2D\n",
    "from keras.layers.normalization import BatchNormalization\n",
    "from keras.callbacks import ModelCheckpoint, EarlyStopping, ReduceLROnPlateau\n",
    "from keras.preprocessing.image import ImageDataGenerator\n",
    "from keras import Sequential\n",
    "from keras.applications.inception_resnet_v2 import InceptionResNetV2 #InceptionRestNetV2 불러오기\n",
    "from keras.optimizers import Adam\n",
    "from keras.callbacks import ModelCheckpoint\n",
    "\n",
    "modelcheck = ModelCheckpoint(\"best.h5\", save_best_only=True)\n",
    "\n",
    "#모델 층을 쌓는다 - Sequntial 방식\n",
    "model = Sequential()\n",
    "model.add(InceptionResNetV2(weights = \"imagenet\", pooling = \"avg\", input_shape = (image_size, image_size, 3), include_top = False))\n",
    "model.add(Dropout(0.5)) #Drop out 통해 overfitting 방지\n",
    "model.add(Dense(2, activation = \"softmax\")) # 출력층\n",
    "\n",
    "#모델을 compile \n",
    "model.compile(loss = \"categorical_crossentropy\", optimizer = Adam(lr = 0.0003, decay = 2e-7))\n",
    "#모델을 학습시킨다\n",
    "model.fit_generator(train_generator, steps_per_epoch = int(np.ceil(2245/batch_size)), callbacks=[modelcheck],\n",
    "                    validation_data=val_generator, validation_steps=int(np.ceil(50/batch_size)),\n",
    "                   epochs = 10)\n",
    "\n",
    "\n",
    "#test set 전처리\n",
    "sub = pd.read_csv(\"../input/sample_submission.csv\")\n",
    "sub[\"path\"] = sub[\"name\"].apply(lambda x: \"../input/test/\" + str(x) + \".jpg\")\n",
    "sub.drop([\"name\", \"invasive\"],1,inplace=True)\n",
    "\n",
    "test_gen = ImageDataGenerator(rescale = 1./255)\n",
    "test_generator = test_gen.flow_from_dataframe(dataframe = sub, shuffle=False, x_col = \"path\", y_col = None, class_mode=None,\n",
    "                                                batch_size = batch_size, target_size = (image_size, image_size))\n",
    "\n",
    "model.load_weights(\"best.h5\")\n",
    "\n",
    "# 모델을 통해 예측한다\n",
    "preds = model.predict_generator(test_generator, steps=int(np.ceil(1531/batch_size)), workers = 2)\n",
    "sub = pd.read_csv(\"../input/sample_submission.csv\")\n",
    "sub[\"invasive\"] = preds\n",
    "sub.to_csv(\"inva2.csv\", index=False)"
   ]
  },
  {
   "cell_type": "code",
   "execution_count": null,
   "metadata": {},
   "outputs": [],
   "source": []
  }
 ],
 "metadata": {
  "kernelspec": {
   "display_name": "Python 3",
   "language": "python",
   "name": "python3"
  },
  "language_info": {
   "codemirror_mode": {
    "name": "ipython",
    "version": 3
   },
   "file_extension": ".py",
   "mimetype": "text/x-python",
   "name": "python",
   "nbconvert_exporter": "python",
   "pygments_lexer": "ipython3",
   "version": "3.6.8"
  }
 },
 "nbformat": 4,
 "nbformat_minor": 1
}
