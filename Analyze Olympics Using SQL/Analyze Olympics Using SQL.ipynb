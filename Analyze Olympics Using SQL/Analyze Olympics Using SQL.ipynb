{
 "cells": [
  {
   "cell_type": "markdown",
   "metadata": {},
   "source": [
    "# Analyze Olympics Using SQL\n",
    "\n",
    "<img width=\"983\" alt=\"Olympics_db\" src=\"https://user-images.githubusercontent.com/50973416/59984266-349ace00-9663-11e9-985a-0739d6d3ceb4.png\">\n",
    "\n",
    "\n",
    "다음 KPI를 분석하겠다.\n",
    "1. Number of events in each sports\n",
    "2. Top athletes in nobel-prized countries\n",
    "3. Countries with high medal rates\n",
    "4. Most decorated athlete per region\n",
    "5. Percent of gdp per country\n",
    "6. GDP per capita performance index\n",
    "7. Month-over-month comparison\n",
    "8. Week-over-week comparison"
   ]
  },
  {
   "cell_type": "markdown",
   "metadata": {},
   "source": [
    "### Number of events in each sports"
   ]
  },
  {
   "cell_type": "code",
   "execution_count": 1,
   "metadata": {},
   "outputs": [],
   "source": [
    "sql = '''\n",
    "\n",
    "SELECT \n",
    "    sport, \n",
    "    COUNT(DISTINCT event) AS events\n",
    "FROM summer_games\n",
    "GROUP BY sport\n",
    "\n",
    "UNION\n",
    "\n",
    "SELECT \n",
    "    sport, \n",
    "    COUNT(DISTINCT event) AS events\n",
    "FROM winter_games\n",
    "GROUP BY sport\n",
    "-- Show the most events at the top of the report\n",
    "ORDER BY events DESC;\n",
    "\n",
    "'''"
   ]
  },
  {
   "cell_type": "markdown",
   "metadata": {},
   "source": [
    "### Top athletes in nobel-prized countries"
   ]
  },
  {
   "cell_type": "code",
   "execution_count": 2,
   "metadata": {},
   "outputs": [],
   "source": [
    "sql = '''\n",
    "\n",
    "\n",
    "SELECT \n",
    "    event,\n",
    "    \n",
    "    CASE WHEN event LIKE '%Women%' THEN 'female' \n",
    "    ELSE 'male' END AS gender,\n",
    "    COUNT(DISTINCT athlete_id) AS athletes\n",
    "FROM summer_games\n",
    "WHERE country_id IN \n",
    "    (SELECT country_id \n",
    "    FROM country_stats \n",
    "    WHERE nobel_prize_winners > 0)\n",
    "GROUP BY event\n",
    "\n",
    "UNION\n",
    "\n",
    "SELECT \n",
    "    event,\n",
    "    CASE WHEN event LIKE '%Women%' THEN 'female' \n",
    "    ELSE 'male' END AS gender,\n",
    "    COUNT(DISTINCT athlete_id) AS athletes\n",
    "FROM winter_games\n",
    "WHERE country_id IN \n",
    "    (SELECT country_id \n",
    "    FROM country_stats \n",
    "    WHERE nobel_prize_winners > 0)\n",
    "GROUP BY event\n",
    "\n",
    "ORDER BY athletes DESC\n",
    "LIMIT 10;\n",
    "\n",
    "'''"
   ]
  },
  {
   "cell_type": "markdown",
   "metadata": {},
   "source": [
    "### Countries with high medal rates"
   ]
  },
  {
   "cell_type": "code",
   "execution_count": 3,
   "metadata": {},
   "outputs": [],
   "source": [
    "sql = '''\n",
    "\n",
    "SELECT \n",
    "    LEFT(REPLACE(UPPER(TRIM(c.country)), '.', ''), 3) AS country_code,\n",
    "    pop_in_millions,\n",
    "    SUM(COALESCE(bronze,0) + COALESCE(silver,0) + COALESCE(gold,0)) AS medals,\n",
    "    SUM(COALESCE(bronze,0) + COALESCE(silver,0) + COALESCE(gold,0)) / CAST(cs.pop_in_millions AS float) AS medals_per_million\n",
    "FROM summer_games AS s\n",
    "JOIN countries AS c \n",
    "ON s.country_id = c.id\n",
    "JOIN country_stats AS cs \n",
    "ON s.country_id = cs.country_id AND s.year = CAST(cs.year AS date)\n",
    "WHERE cs.pop_in_millions IS NOT NULL\n",
    "GROUP BY c.country, pop_in_millions\n",
    "ORDER BY medals_per_million DESC\n",
    "LIMIT 25;\n",
    "\n",
    "'''"
   ]
  },
  {
   "cell_type": "markdown",
   "metadata": {},
   "source": [
    "### Most decorated athlete per region"
   ]
  },
  {
   "cell_type": "code",
   "execution_count": 4,
   "metadata": {},
   "outputs": [],
   "source": [
    "sql = '''\n",
    "\n",
    "SELECT \n",
    "    region,\n",
    "    athlete_name,\n",
    "    total_golds\n",
    "FROM\n",
    "    (SELECT \n",
    "        region, \n",
    "        name AS athlete_name, \n",
    "        SUM(gold) AS total_golds,\n",
    "        ROW_NUMBER() OVER (PARTITION BY region ORDER BY SUM(gold) DESC) AS row_num\n",
    "    FROM summer_games_clean AS s\n",
    "    JOIN athletes AS a\n",
    "    ON a.id = s.athlete_id\n",
    "    JOIN countries AS c\n",
    "    ON s.country_id = c.id\n",
    "    GROUP BY region, athlete_name) AS subquery\n",
    "WHERE row_num = 1;\n",
    "\n",
    "'''"
   ]
  },
  {
   "cell_type": "markdown",
   "metadata": {},
   "source": [
    "### Percent of gdp per country"
   ]
  },
  {
   "cell_type": "code",
   "execution_count": 5,
   "metadata": {},
   "outputs": [],
   "source": [
    "sql = '''\n",
    "\n",
    "SELECT \n",
    "    region,\n",
    "    country,\n",
    "    SUM(gdp) AS country_gdp,\n",
    "    SUM(SUM(gdp)) OVER () AS global_gdp,\n",
    "    SUM(gdp) / SUM(SUM(gdp)) OVER () AS perc_global_gdp,\n",
    "    SUM(gdp) / SUM(SUM(gdp)) OVER (PARTITION BY region) AS perc_region_gdp\n",
    "FROM country_stats AS cs\n",
    "JOIN countries AS c\n",
    "ON cs.country_id = c.id\n",
    "WHERE gdp IS NOT NULL\n",
    "GROUP BY region, country\n",
    "ORDER BY country_gdp DESC;\n",
    "\n",
    "'''"
   ]
  },
  {
   "cell_type": "markdown",
   "metadata": {},
   "source": [
    "### GDP per capita performance index"
   ]
  },
  {
   "cell_type": "code",
   "execution_count": 6,
   "metadata": {},
   "outputs": [],
   "source": [
    "sql = '''\n",
    "\n",
    "SELECT \n",
    "    region,\n",
    "    country,\n",
    "    SUM(gdp) / SUM(pop_in_millions) AS gdp_per_million,\n",
    "    SUM(SUM(gdp)) OVER () / SUM(SUM(pop_in_millions)) OVER () AS gdp_per_million_total,\n",
    "    (SUM(gdp) / SUM(pop_in_millions)) / (SUM(SUM(gdp)) OVER () / SUM(SUM(pop_in_millions)) OVER ()) AS performance_index\n",
    "FROM country_stats_clean AS cs\n",
    "JOIN countries AS c \n",
    "ON cs.country_id = c.id\n",
    "WHERE year = '2016-01-01' AND gdp IS NOT NULL\n",
    "GROUP BY region, country\n",
    "ORDER BY gdp_per_million DESC;\n",
    "\n",
    "'''"
   ]
  },
  {
   "cell_type": "markdown",
   "metadata": {},
   "source": [
    "### Month-over-month comparison"
   ]
  },
  {
   "cell_type": "code",
   "execution_count": 7,
   "metadata": {},
   "outputs": [],
   "source": [
    "sql = '''\n",
    "\n",
    "SELECT\n",
    "    DATE_PART('month', date) AS month,\n",
    "    country_id,\n",
    "    SUM(views) AS month_views,\n",
    "    LAG(SUM(views)) OVER (PARTITION BY country_id ORDER BY DATE_PART('month', date)) AS previous_month_views,\n",
    "    SUM(views) / LAG(SUM(views)) OVER (PARTITION BY country_id ORDER BY DATE_PART('month', date)) - 1 AS perc_change\n",
    "FROM web_data\n",
    "WHERE date <= '2018-05-31'\n",
    "GROUP BY month, country_id;\n",
    "\n",
    "'''"
   ]
  },
  {
   "cell_type": "markdown",
   "metadata": {},
   "source": [
    "### Week-over-week comparison"
   ]
  },
  {
   "cell_type": "code",
   "execution_count": 8,
   "metadata": {},
   "outputs": [],
   "source": [
    "sql = '''\n",
    "\n",
    "SELECT \n",
    "    date,\n",
    "    weekly_avg,\n",
    "    LAG(weekly_avg,7) OVER (ORDER BY date) AS weekly_avg_previous,\n",
    "    weekly_avg / LAG(weekly_avg,7) OVER (ORDER BY date) - 1 as perc_change\n",
    "FROM\n",
    "  (SELECT\n",
    "      date,\n",
    "      SUM(views) AS daily_views,\n",
    "      -- Calculate the rolling 7 day average\n",
    "      AVG(SUM(views)) OVER (ORDER BY date ROWS BETWEEN 6 PRECEDING AND CURRENT ROW) AS weekly_avg\n",
    "  FROM web_data\n",
    "  GROUP BY date) AS subquery\n",
    "ORDER BY date DESC;\n",
    "\n",
    "'''"
   ]
  },
  {
   "cell_type": "code",
   "execution_count": null,
   "metadata": {},
   "outputs": [],
   "source": []
  }
 ],
 "metadata": {
  "kernelspec": {
   "display_name": "Python 3",
   "language": "python",
   "name": "python3"
  },
  "language_info": {
   "codemirror_mode": {
    "name": "ipython",
    "version": 3
   },
   "file_extension": ".py",
   "mimetype": "text/x-python",
   "name": "python",
   "nbconvert_exporter": "python",
   "pygments_lexer": "ipython3",
   "version": "3.6.8"
  }
 },
 "nbformat": 4,
 "nbformat_minor": 2
}
