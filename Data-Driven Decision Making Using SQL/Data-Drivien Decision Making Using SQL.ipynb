{
 "cells": [
  {
   "cell_type": "markdown",
   "metadata": {},
   "source": [
    "# Data-Drivien Decision Making Using SQL\n",
    "\n",
    "- ## Analyze Moive Data using SQL\n",
    "\n",
    "<img width=\"844\" alt=\"movie_rental\" src=\"https://user-images.githubusercontent.com/50973416/59895563-ffeb0480-941f-11e9-9709-6a8f1a45251c.png\">\n",
    "\n",
    "## Objectives of data driven decision making\n",
    "### Information for operational decisions\n",
    "- Popularity of actors to decide which movies to invest in.\n",
    "- Revenue ofthe last months to estimate budget for short term investments.\n",
    "\n",
    "### Information for strategic decisions\n",
    "- Success across countries to decide on market extensions.\n",
    "- Longterm development of revenue for long term investments\n",
    "\n",
    "## KPI\n",
    "\n",
    "- Total number of rentals: revenue\n",
    "- The average rating of all movies: customer satisfaction\n",
    "- Number of active customers: customer engagement"
   ]
  },
  {
   "cell_type": "markdown",
   "metadata": {},
   "source": [
    "## Derive KPI using OLAP\n",
    "\n"
   ]
  },
  {
   "cell_type": "markdown",
   "metadata": {},
   "source": [
    "### categories of movies\n",
    "list the number of movies for different genres and release years."
   ]
  },
  {
   "cell_type": "code",
   "execution_count": null,
   "metadata": {},
   "outputs": [],
   "source": [
    "sql = '''\n",
    "\n",
    "SELECT \n",
    "    year_of_release,\n",
    "    genre,\n",
    "    COUNT(*)\n",
    "FROM movies\n",
    "GROUP BY CUBE (year_of_release, genre)\n",
    "ORDER BY year_of_release;\n",
    "\n",
    "'''"
   ]
  },
  {
   "cell_type": "markdown",
   "metadata": {},
   "source": [
    "### Analyzing average ratings"
   ]
  },
  {
   "cell_type": "code",
   "execution_count": 1,
   "metadata": {},
   "outputs": [],
   "source": [
    "sql = '''\n",
    "\n",
    "SELECT \n",
    "    c.country, \n",
    "    m.genre, \n",
    "    AVG(r.rating) AS avg_rating \n",
    "FROM renting AS r\n",
    "LEFT JOIN movies AS m\n",
    "ON m.movie_id = r.movie_id\n",
    "LEFT JOIN customers AS c\n",
    "ON r.customer_id = c.customer_id\n",
    "GROUP BY CUBE (c.country, m.genre);\n",
    "\n",
    "'''"
   ]
  },
  {
   "cell_type": "markdown",
   "metadata": {},
   "source": [
    "### Number of customers"
   ]
  },
  {
   "cell_type": "code",
   "execution_count": 2,
   "metadata": {},
   "outputs": [],
   "source": [
    "sql = '''\n",
    "\n",
    "SELECT \n",
    "    country,\n",
    "    gender,\n",
    "    COUNT(*)\n",
    "FROM customers\n",
    "GROUP BY ROLLUP (country, gender)\n",
    "ORDER BY country, gender;\n",
    "\n",
    "'''"
   ]
  },
  {
   "cell_type": "markdown",
   "metadata": {},
   "source": [
    "### Exploring rating by country and gender"
   ]
  },
  {
   "cell_type": "code",
   "execution_count": 3,
   "metadata": {},
   "outputs": [],
   "source": [
    "sql = '''\n",
    "\n",
    "SELECT \n",
    "    c.country, \n",
    "    c.gender,\n",
    "    AVG(r.rating)\n",
    "FROM renting AS r\n",
    "LEFT JOIN customers AS c\n",
    "ON r.customer_id = c.customer_id\n",
    "GROUP BY GROUPING SETS ((country, gender), (country), (gender), ());\n",
    "\n",
    "'''"
   ]
  },
  {
   "cell_type": "markdown",
   "metadata": {},
   "source": [
    "### Customer preference for genre"
   ]
  },
  {
   "cell_type": "code",
   "execution_count": 4,
   "metadata": {},
   "outputs": [],
   "source": [
    "sql ='''\n",
    "\n",
    "SELECT \n",
    "    m.genre,\n",
    "    AVG(r.rating) AS avg_rating,\n",
    "    COUNT(r.rating) AS n_rating,\n",
    "    COUNT(*) AS n_rentals,     \n",
    "    COUNT(DISTINCT m.movie_id) AS n_movies \n",
    "FROM renting AS r\n",
    "LEFT JOIN movies AS m\n",
    "ON m.movie_id = r.movie_id\n",
    "WHERE r.movie_id IN ( \n",
    "    SELECT \n",
    "        r.movie_id\n",
    "    FROM renting\n",
    "    GROUP BY r.movie_id\n",
    "    HAVING COUNT(rating) >= 3)\n",
    "AND r.date_renting >= '2018-01-01'\n",
    "GROUP BY m.genre\n",
    "ORDER BY avg_rating DESC; -- Order the table by decreasing average rating\n",
    "\n",
    "'''"
   ]
  },
  {
   "cell_type": "markdown",
   "metadata": {},
   "source": [
    "### Customer preference for actor"
   ]
  },
  {
   "cell_type": "code",
   "execution_count": null,
   "metadata": {},
   "outputs": [],
   "source": [
    "sql = '''\n",
    "\n",
    "SELECT \n",
    "    a.nationality,\n",
    "    a.gender,\n",
    "    AVG(r.rating) AS avg_rating,\n",
    "    COUNT(r.rating) AS n_rating,\n",
    "    COUNT(*) AS n_rentals,\n",
    "    COUNT(DISTINCT a.actor_id) AS n_actors\n",
    "FROM renting AS r\n",
    "LEFT JOIN actsin AS ai\n",
    "ON ai.movie_id = r.movie_id\n",
    "LEFT JOIN actors AS a\n",
    "ON ai.actor_id = a.actor_id\n",
    "WHERE r.movie_id IN ( \n",
    "    SELECT \n",
    "        movie_id\n",
    "    FROM renting\n",
    "    GROUP BY movie_id\n",
    "    HAVING COUNT(rating) >= 4)\n",
    "AND r.date_renting >= '2018-04-01'\n",
    "GROUP BY CUBE (a.nationality, a.gender);\n",
    "\n",
    "'''"
   ]
  }
 ],
 "metadata": {
  "kernelspec": {
   "display_name": "Python 3",
   "language": "python",
   "name": "python3"
  },
  "language_info": {
   "codemirror_mode": {
    "name": "ipython",
    "version": 3
   },
   "file_extension": ".py",
   "mimetype": "text/x-python",
   "name": "python",
   "nbconvert_exporter": "python",
   "pygments_lexer": "ipython3",
   "version": "3.6.8"
  }
 },
 "nbformat": 4,
 "nbformat_minor": 2
}
